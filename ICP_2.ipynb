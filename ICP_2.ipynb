{
  "nbformat": 4,
  "nbformat_minor": 0,
  "metadata": {
    "colab": {
      "provenance": [],
      "authorship_tag": "ABX9TyOJ/eNhty8nYAc5Ml2gGppJ",
      "include_colab_link": true
    },
    "kernelspec": {
      "name": "python3",
      "display_name": "Python 3"
    },
    "language_info": {
      "name": "python"
    }
  },
  "cells": [
    {
      "cell_type": "markdown",
      "metadata": {
        "id": "view-in-github",
        "colab_type": "text"
      },
      "source": [
        "<a href=\"https://colab.research.google.com/github/analystmanu/ICP_2/blob/main/ICP_2.ipynb\" target=\"_parent\"><img src=\"https://colab.research.google.com/assets/colab-badge.svg\" alt=\"Open In Colab\"/></a>"
      ]
    },
    {
      "cell_type": "code",
      "execution_count": 18,
      "metadata": {
        "colab": {
          "base_uri": "https://localhost:8080/"
        },
        "id": "ECMO9e-tJS43",
        "outputId": "8d102bd3-a707-4299-9a68-8aed0400d99e"
      },
      "outputs": [
        {
          "output_type": "stream",
          "name": "stdout",
          "text": [
            "Count of the Employees : 3\n",
            "Average salary of the Employee: 8333333.333333333\n",
            "Employee Name: Manu\n",
            "Family Members: 5\n",
            "Employee Annual Salary: 25000000\n",
            "Department: Data scientist\n",
            "Employee Name : Sharma\n",
            "Family Members: 4\n",
            "Employee Annual Salary: 26000000\n",
            "Department: Data Analyst\n",
            "Type of Employment : Fulltime\n",
            "Employee Name : Muhammad\n",
            "Family Members: 3\n",
            "Employee Annual Salary: 27000000\n",
            "Department: full-stack Developer\n",
            "Type of Employment : Fulltime\n"
          ]
        }
      ],
      "source": [
        "Problem 1:\n",
        "\n",
        "# Creating a class named \"Employee\" and a variable to count the number of employee.\n",
        "class Employee:\n",
        "    empCount = 0\n",
        "\n",
        "# Next we will create a init constructor method for the name, family, salary, and department.\n",
        "    def __init__(self, name, family, salary, department):\n",
        "        self.name = name\n",
        "        self.family = family\n",
        "        self.salary = salary\n",
        "        self.department = department\n",
        "        Employee.empCount += 1    # EMPLOYEE COUNT\n",
        "\n",
        "# Next we will use a function named average_salary to calculate the avg salary by taking sum of salaries and dividing it by the number of employees.\n",
        "    def average_salary(self):\n",
        "        total_salary = 0\n",
        "        total_salary += float(self.salary)\n",
        "        avg = total_salary / Employee.empCount\n",
        "        print('Average salary of the Employee:', avg)\n",
        "\n",
        "# Next we will display the details of employees.\n",
        "    def display(self):\n",
        "        print('Employee Name:', self.name)\n",
        "        print('Family Members:', self.family)\n",
        "        print('Employee Annual Salary:', self.salary)\n",
        "        print('Department:', self.department)\n",
        "\n",
        "\n",
        "\n",
        "# Inheriting fulltime employee class from employee\n",
        "class Fulltime_Employee(Employee):\n",
        "    def __init__(self, name, family, salary, department, emp_type):\n",
        "        Employee.__init__(self, name, family, salary, department)\n",
        "        self.emp_type = emp_type\n",
        "\n",
        "#FUNCTION TO DISPLAY EMPLOYEE DETAILS\n",
        "    def display(self):\n",
        "        print(\"Employee Name :\", self.name)\n",
        "        print('Family Members:', self.family)\n",
        "        print('Employee Annual Salary:', self.salary)\n",
        "        print('Department:', self.department)\n",
        "        print('Type of Employment :', self.emp_type)\n",
        "\n",
        "\n",
        "\n",
        "# Creating instances of Employee and Fulltime Employee\n",
        "emp1 = Employee('Manu', '5', '25000000', 'Data scientist')\n",
        "emp2 = Fulltime_Employee('Sharma', '4', '26000000', 'Data Analyst', 'Fulltime')\n",
        "emp3 = Fulltime_Employee('Muhammad', '3', '27000000', 'full-stack Developer', 'Fulltime')\n",
        "\n",
        "print(\"Count of the Employees :\", emp1.empCount)\n",
        "emp1.average_salary()\n",
        "emp1.display()\n",
        "emp2.display()\n",
        "emp3.display()\n",
        "\n",
        "\n",
        "\n"
      ]
    },
    {
      "cell_type": "markdown",
      "source": [
        "Problem 2:"
      ],
      "metadata": {
        "id": "bGQVSiD_QXfQ"
      }
    },
    {
      "cell_type": "code",
      "source": [
        "import numpy as np\n",
        "\n",
        "# creating random vector of size 20 having only float in the range 1-20\n",
        "random_vector = np.random.uniform(1, 20, 20)\n",
        "print(\"Random Vector : \\n\", random_vector)\n",
        "\n",
        "# Reshaping the array to 4x5\n",
        "random_vector = random_vector.reshape(4,5)\n",
        "print(\"after reshaping (4 by 5): \\n\", random_vector)\n",
        "\n",
        "# replacing the max in each row by 0 (axis=1)\n",
        "\n",
        "random_vector[np.arange(len(random_vector)), random_vector.argmax(1)] = 0\n",
        "print(\"Replacing the maximum in each row : \\n\", random_vector)\n",
        "\n",
        ""
      ],
      "metadata": {
        "colab": {
          "base_uri": "https://localhost:8080/"
        },
        "id": "V-_jc2NVQb6I",
        "outputId": "0cff6f39-70bc-4fa3-b98a-2f5abd6faa26"
      },
      "execution_count": 21,
      "outputs": [
        {
          "output_type": "stream",
          "name": "stdout",
          "text": [
            "Random Vector : \n",
            " [ 4.71977523 11.51997449 12.93002983  8.88812471 11.46034017 14.6231766\n",
            "  6.28700357  5.61730864 12.68215823 16.28552445 14.98804228 14.75542329\n",
            "  2.12634538 18.30354006 18.87742073 17.75569965 19.27141547 16.43300079\n",
            " 13.43438241 14.59050175]\n",
            "after reshaping (4 by 5): \n",
            " [[ 4.71977523 11.51997449 12.93002983  8.88812471 11.46034017]\n",
            " [14.6231766   6.28700357  5.61730864 12.68215823 16.28552445]\n",
            " [14.98804228 14.75542329  2.12634538 18.30354006 18.87742073]\n",
            " [17.75569965 19.27141547 16.43300079 13.43438241 14.59050175]]\n",
            "Replacing the maximum in each row : \n",
            " [[ 4.71977523 11.51997449  0.          8.88812471 11.46034017]\n",
            " [14.6231766   6.28700357  5.61730864 12.68215823  0.        ]\n",
            " [14.98804228 14.75542329  2.12634538 18.30354006  0.        ]\n",
            " [17.75569965  0.         16.43300079 13.43438241 14.59050175]]\n"
          ]
        }
      ]
    }
  ]
}